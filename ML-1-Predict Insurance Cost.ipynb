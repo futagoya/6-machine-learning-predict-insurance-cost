{
 "cells": [
  {
   "cell_type": "code",
   "execution_count": 16,
   "id": "094cfc89",
   "metadata": {},
   "outputs": [],
   "source": [
    "import pandas as pd"
   ]
  },
  {
   "cell_type": "code",
   "execution_count": 17,
   "id": "7181b854",
   "metadata": {},
   "outputs": [],
   "source": [
    "df = pd.read_csv(r'E:\\Machine Learning Project\\insurance.csv')"
   ]
  },
  {
   "cell_type": "markdown",
   "id": "3eafc809",
   "metadata": {},
   "source": [
    "# Machine Learning Project: Predict Insurance Cost"
   ]
  },
  {
   "cell_type": "markdown",
   "id": "bbb36aa2",
   "metadata": {},
   "source": [
    "## Dataset on: https://www.kaggle.com/datasets/mirichoi0218/insurance "
   ]
  },
  {
   "cell_type": "raw",
   "id": "800f6db0",
   "metadata": {},
   "source": [
    "Credit to Data Thinkers Youtube"
   ]
  },
  {
   "cell_type": "code",
   "execution_count": 18,
   "id": "c4a0b141",
   "metadata": {},
   "outputs": [
    {
     "data": {
      "text/html": [
       "<div>\n",
       "<style scoped>\n",
       "    .dataframe tbody tr th:only-of-type {\n",
       "        vertical-align: middle;\n",
       "    }\n",
       "\n",
       "    .dataframe tbody tr th {\n",
       "        vertical-align: top;\n",
       "    }\n",
       "\n",
       "    .dataframe thead th {\n",
       "        text-align: right;\n",
       "    }\n",
       "</style>\n",
       "<table border=\"1\" class=\"dataframe\">\n",
       "  <thead>\n",
       "    <tr style=\"text-align: right;\">\n",
       "      <th></th>\n",
       "      <th>age</th>\n",
       "      <th>sex</th>\n",
       "      <th>bmi</th>\n",
       "      <th>children</th>\n",
       "      <th>smoker</th>\n",
       "      <th>region</th>\n",
       "      <th>charges</th>\n",
       "    </tr>\n",
       "  </thead>\n",
       "  <tbody>\n",
       "    <tr>\n",
       "      <th>0</th>\n",
       "      <td>19</td>\n",
       "      <td>female</td>\n",
       "      <td>27.900</td>\n",
       "      <td>0</td>\n",
       "      <td>yes</td>\n",
       "      <td>southwest</td>\n",
       "      <td>16884.92400</td>\n",
       "    </tr>\n",
       "    <tr>\n",
       "      <th>1</th>\n",
       "      <td>18</td>\n",
       "      <td>male</td>\n",
       "      <td>33.770</td>\n",
       "      <td>1</td>\n",
       "      <td>no</td>\n",
       "      <td>southeast</td>\n",
       "      <td>1725.55230</td>\n",
       "    </tr>\n",
       "    <tr>\n",
       "      <th>2</th>\n",
       "      <td>28</td>\n",
       "      <td>male</td>\n",
       "      <td>33.000</td>\n",
       "      <td>3</td>\n",
       "      <td>no</td>\n",
       "      <td>southeast</td>\n",
       "      <td>4449.46200</td>\n",
       "    </tr>\n",
       "    <tr>\n",
       "      <th>3</th>\n",
       "      <td>33</td>\n",
       "      <td>male</td>\n",
       "      <td>22.705</td>\n",
       "      <td>0</td>\n",
       "      <td>no</td>\n",
       "      <td>northwest</td>\n",
       "      <td>21984.47061</td>\n",
       "    </tr>\n",
       "    <tr>\n",
       "      <th>4</th>\n",
       "      <td>32</td>\n",
       "      <td>male</td>\n",
       "      <td>28.880</td>\n",
       "      <td>0</td>\n",
       "      <td>no</td>\n",
       "      <td>northwest</td>\n",
       "      <td>3866.85520</td>\n",
       "    </tr>\n",
       "  </tbody>\n",
       "</table>\n",
       "</div>"
      ],
      "text/plain": [
       "   age     sex     bmi  children smoker     region      charges\n",
       "0   19  female  27.900         0    yes  southwest  16884.92400\n",
       "1   18    male  33.770         1     no  southeast   1725.55230\n",
       "2   28    male  33.000         3     no  southeast   4449.46200\n",
       "3   33    male  22.705         0     no  northwest  21984.47061\n",
       "4   32    male  28.880         0     no  northwest   3866.85520"
      ]
     },
     "execution_count": 18,
     "metadata": {},
     "output_type": "execute_result"
    }
   ],
   "source": [
    "df.head()"
   ]
  },
  {
   "cell_type": "markdown",
   "id": "cbb8763f",
   "metadata": {},
   "source": [
    "# 1. Check the Dataset's information and the null values"
   ]
  },
  {
   "cell_type": "code",
   "execution_count": 19,
   "id": "efe81a8a",
   "metadata": {},
   "outputs": [
    {
     "name": "stdout",
     "output_type": "stream",
     "text": [
      "<class 'pandas.core.frame.DataFrame'>\n",
      "RangeIndex: 1338 entries, 0 to 1337\n",
      "Data columns (total 7 columns):\n",
      " #   Column    Non-Null Count  Dtype  \n",
      "---  ------    --------------  -----  \n",
      " 0   age       1338 non-null   int64  \n",
      " 1   sex       1338 non-null   object \n",
      " 2   bmi       1338 non-null   float64\n",
      " 3   children  1338 non-null   int64  \n",
      " 4   smoker    1338 non-null   object \n",
      " 5   region    1338 non-null   object \n",
      " 6   charges   1338 non-null   float64\n",
      "dtypes: float64(2), int64(2), object(3)\n",
      "memory usage: 73.3+ KB\n"
     ]
    }
   ],
   "source": [
    "df.info()"
   ]
  },
  {
   "cell_type": "code",
   "execution_count": 20,
   "id": "511fea46",
   "metadata": {},
   "outputs": [
    {
     "data": {
      "text/plain": [
       "age         0\n",
       "sex         0\n",
       "bmi         0\n",
       "children    0\n",
       "smoker      0\n",
       "region      0\n",
       "charges     0\n",
       "dtype: int64"
      ]
     },
     "execution_count": 20,
     "metadata": {},
     "output_type": "execute_result"
    }
   ],
   "source": [
    "df.isnull().sum()"
   ]
  },
  {
   "cell_type": "markdown",
   "id": "701440fb",
   "metadata": {},
   "source": [
    "# 2. Convert object to numerical values"
   ]
  },
  {
   "cell_type": "code",
   "execution_count": 21,
   "id": "062cac35",
   "metadata": {},
   "outputs": [],
   "source": [
    "df['sex']=df['sex'].map({'female':0,'male':1})\n",
    "df['smoker']=df['smoker'].map({'no':0,'yes':1})\n",
    "df['region']=df['region'].map({'southwest':1,'southeast':2,'northwest':3,'northeast':4})"
   ]
  },
  {
   "cell_type": "code",
   "execution_count": 22,
   "id": "d0065342",
   "metadata": {},
   "outputs": [
    {
     "data": {
      "text/html": [
       "<div>\n",
       "<style scoped>\n",
       "    .dataframe tbody tr th:only-of-type {\n",
       "        vertical-align: middle;\n",
       "    }\n",
       "\n",
       "    .dataframe tbody tr th {\n",
       "        vertical-align: top;\n",
       "    }\n",
       "\n",
       "    .dataframe thead th {\n",
       "        text-align: right;\n",
       "    }\n",
       "</style>\n",
       "<table border=\"1\" class=\"dataframe\">\n",
       "  <thead>\n",
       "    <tr style=\"text-align: right;\">\n",
       "      <th></th>\n",
       "      <th>age</th>\n",
       "      <th>sex</th>\n",
       "      <th>bmi</th>\n",
       "      <th>children</th>\n",
       "      <th>smoker</th>\n",
       "      <th>region</th>\n",
       "      <th>charges</th>\n",
       "    </tr>\n",
       "  </thead>\n",
       "  <tbody>\n",
       "    <tr>\n",
       "      <th>0</th>\n",
       "      <td>19</td>\n",
       "      <td>0</td>\n",
       "      <td>27.900</td>\n",
       "      <td>0</td>\n",
       "      <td>1</td>\n",
       "      <td>1</td>\n",
       "      <td>16884.92400</td>\n",
       "    </tr>\n",
       "    <tr>\n",
       "      <th>1</th>\n",
       "      <td>18</td>\n",
       "      <td>1</td>\n",
       "      <td>33.770</td>\n",
       "      <td>1</td>\n",
       "      <td>0</td>\n",
       "      <td>2</td>\n",
       "      <td>1725.55230</td>\n",
       "    </tr>\n",
       "    <tr>\n",
       "      <th>2</th>\n",
       "      <td>28</td>\n",
       "      <td>1</td>\n",
       "      <td>33.000</td>\n",
       "      <td>3</td>\n",
       "      <td>0</td>\n",
       "      <td>2</td>\n",
       "      <td>4449.46200</td>\n",
       "    </tr>\n",
       "    <tr>\n",
       "      <th>3</th>\n",
       "      <td>33</td>\n",
       "      <td>1</td>\n",
       "      <td>22.705</td>\n",
       "      <td>0</td>\n",
       "      <td>0</td>\n",
       "      <td>3</td>\n",
       "      <td>21984.47061</td>\n",
       "    </tr>\n",
       "    <tr>\n",
       "      <th>4</th>\n",
       "      <td>32</td>\n",
       "      <td>1</td>\n",
       "      <td>28.880</td>\n",
       "      <td>0</td>\n",
       "      <td>0</td>\n",
       "      <td>3</td>\n",
       "      <td>3866.85520</td>\n",
       "    </tr>\n",
       "  </tbody>\n",
       "</table>\n",
       "</div>"
      ],
      "text/plain": [
       "   age  sex     bmi  children  smoker  region      charges\n",
       "0   19    0  27.900         0       1       1  16884.92400\n",
       "1   18    1  33.770         1       0       2   1725.55230\n",
       "2   28    1  33.000         3       0       2   4449.46200\n",
       "3   33    1  22.705         0       0       3  21984.47061\n",
       "4   32    1  28.880         0       0       3   3866.85520"
      ]
     },
     "execution_count": 22,
     "metadata": {},
     "output_type": "execute_result"
    }
   ],
   "source": [
    "df.head()"
   ]
  },
  {
   "cell_type": "markdown",
   "id": "0f70d307",
   "metadata": {},
   "source": [
    "# 3. Store independent variable to X and dependent variable to y"
   ]
  },
  {
   "cell_type": "code",
   "execution_count": 23,
   "id": "45438b6b",
   "metadata": {},
   "outputs": [
    {
     "data": {
      "text/plain": [
       "Index(['age', 'sex', 'bmi', 'children', 'smoker', 'region', 'charges'], dtype='object')"
      ]
     },
     "execution_count": 23,
     "metadata": {},
     "output_type": "execute_result"
    }
   ],
   "source": [
    "df.columns"
   ]
  },
  {
   "cell_type": "raw",
   "id": "71dabea6",
   "metadata": {},
   "source": [
    "'age', 'sex', 'bmi', 'children', 'smoker', 'region' are Independent Variables"
   ]
  },
  {
   "cell_type": "raw",
   "id": "7f4a79ba",
   "metadata": {},
   "source": [
    "'charges' is Dependent Variable"
   ]
  },
  {
   "cell_type": "code",
   "execution_count": 24,
   "id": "a28197bf",
   "metadata": {},
   "outputs": [],
   "source": [
    "X = df.drop(['charges'],axis=1)\n",
    "y = df['charges']"
   ]
  },
  {
   "cell_type": "markdown",
   "id": "366315e3",
   "metadata": {},
   "source": [
    "# 4. Split the data into training & test set"
   ]
  },
  {
   "cell_type": "markdown",
   "id": "7224a0bf",
   "metadata": {},
   "source": [
    "### 1. Split the data"
   ]
  },
  {
   "cell_type": "markdown",
   "id": "3b928c88",
   "metadata": {},
   "source": [
    "### 2. Train the models on training set"
   ]
  },
  {
   "cell_type": "markdown",
   "id": "521183a6",
   "metadata": {},
   "source": [
    "### 3. Test the models on testing set"
   ]
  },
  {
   "cell_type": "code",
   "execution_count": 25,
   "id": "6ba07aef",
   "metadata": {},
   "outputs": [],
   "source": [
    "from sklearn.model_selection import train_test_split\n",
    "X_train,X_test,y_train,y_test=train_test_split(X,y,test_size=0.2,random_state=20)"
   ]
  },
  {
   "cell_type": "markdown",
   "id": "43f5731e",
   "metadata": {},
   "source": [
    "# 5. Import the Models"
   ]
  },
  {
   "cell_type": "code",
   "execution_count": 26,
   "id": "c3fb5fa0",
   "metadata": {},
   "outputs": [],
   "source": [
    "from sklearn.linear_model import LinearRegression\n",
    "from sklearn.svm import SVR\n",
    "from sklearn.ensemble import RandomForestRegressor\n",
    "from sklearn.ensemble import GradientBoostingRegressor"
   ]
  },
  {
   "cell_type": "markdown",
   "id": "5d8cac1f",
   "metadata": {},
   "source": [
    "# 6. Model Training"
   ]
  },
  {
   "cell_type": "code",
   "execution_count": 27,
   "id": "ecc2934f",
   "metadata": {},
   "outputs": [
    {
     "data": {
      "text/html": [
       "<style>#sk-container-id-1 {color: black;background-color: white;}#sk-container-id-1 pre{padding: 0;}#sk-container-id-1 div.sk-toggleable {background-color: white;}#sk-container-id-1 label.sk-toggleable__label {cursor: pointer;display: block;width: 100%;margin-bottom: 0;padding: 0.3em;box-sizing: border-box;text-align: center;}#sk-container-id-1 label.sk-toggleable__label-arrow:before {content: \"▸\";float: left;margin-right: 0.25em;color: #696969;}#sk-container-id-1 label.sk-toggleable__label-arrow:hover:before {color: black;}#sk-container-id-1 div.sk-estimator:hover label.sk-toggleable__label-arrow:before {color: black;}#sk-container-id-1 div.sk-toggleable__content {max-height: 0;max-width: 0;overflow: hidden;text-align: left;background-color: #f0f8ff;}#sk-container-id-1 div.sk-toggleable__content pre {margin: 0.2em;color: black;border-radius: 0.25em;background-color: #f0f8ff;}#sk-container-id-1 input.sk-toggleable__control:checked~div.sk-toggleable__content {max-height: 200px;max-width: 100%;overflow: auto;}#sk-container-id-1 input.sk-toggleable__control:checked~label.sk-toggleable__label-arrow:before {content: \"▾\";}#sk-container-id-1 div.sk-estimator input.sk-toggleable__control:checked~label.sk-toggleable__label {background-color: #d4ebff;}#sk-container-id-1 div.sk-label input.sk-toggleable__control:checked~label.sk-toggleable__label {background-color: #d4ebff;}#sk-container-id-1 input.sk-hidden--visually {border: 0;clip: rect(1px 1px 1px 1px);clip: rect(1px, 1px, 1px, 1px);height: 1px;margin: -1px;overflow: hidden;padding: 0;position: absolute;width: 1px;}#sk-container-id-1 div.sk-estimator {font-family: monospace;background-color: #f0f8ff;border: 1px dotted black;border-radius: 0.25em;box-sizing: border-box;margin-bottom: 0.5em;}#sk-container-id-1 div.sk-estimator:hover {background-color: #d4ebff;}#sk-container-id-1 div.sk-parallel-item::after {content: \"\";width: 100%;border-bottom: 1px solid gray;flex-grow: 1;}#sk-container-id-1 div.sk-label:hover label.sk-toggleable__label {background-color: #d4ebff;}#sk-container-id-1 div.sk-serial::before {content: \"\";position: absolute;border-left: 1px solid gray;box-sizing: border-box;top: 0;bottom: 0;left: 50%;z-index: 0;}#sk-container-id-1 div.sk-serial {display: flex;flex-direction: column;align-items: center;background-color: white;padding-right: 0.2em;padding-left: 0.2em;position: relative;}#sk-container-id-1 div.sk-item {position: relative;z-index: 1;}#sk-container-id-1 div.sk-parallel {display: flex;align-items: stretch;justify-content: center;background-color: white;position: relative;}#sk-container-id-1 div.sk-item::before, #sk-container-id-1 div.sk-parallel-item::before {content: \"\";position: absolute;border-left: 1px solid gray;box-sizing: border-box;top: 0;bottom: 0;left: 50%;z-index: -1;}#sk-container-id-1 div.sk-parallel-item {display: flex;flex-direction: column;z-index: 1;position: relative;background-color: white;}#sk-container-id-1 div.sk-parallel-item:first-child::after {align-self: flex-end;width: 50%;}#sk-container-id-1 div.sk-parallel-item:last-child::after {align-self: flex-start;width: 50%;}#sk-container-id-1 div.sk-parallel-item:only-child::after {width: 0;}#sk-container-id-1 div.sk-dashed-wrapped {border: 1px dashed gray;margin: 0 0.4em 0.5em 0.4em;box-sizing: border-box;padding-bottom: 0.4em;background-color: white;}#sk-container-id-1 div.sk-label label {font-family: monospace;font-weight: bold;display: inline-block;line-height: 1.2em;}#sk-container-id-1 div.sk-label-container {text-align: center;}#sk-container-id-1 div.sk-container {/* jupyter's `normalize.less` sets `[hidden] { display: none; }` but bootstrap.min.css set `[hidden] { display: none !important; }` so we also need the `!important` here to be able to override the default hidden behavior on the sphinx rendered scikit-learn.org. See: https://github.com/scikit-learn/scikit-learn/issues/21755 */display: inline-block !important;position: relative;}#sk-container-id-1 div.sk-text-repr-fallback {display: none;}</style><div id=\"sk-container-id-1\" class=\"sk-top-container\"><div class=\"sk-text-repr-fallback\"><pre>GradientBoostingRegressor()</pre><b>In a Jupyter environment, please rerun this cell to show the HTML representation or trust the notebook. <br />On GitHub, the HTML representation is unable to render, please try loading this page with nbviewer.org.</b></div><div class=\"sk-container\" hidden><div class=\"sk-item\"><div class=\"sk-estimator sk-toggleable\"><input class=\"sk-toggleable__control sk-hidden--visually\" id=\"sk-estimator-id-1\" type=\"checkbox\" checked><label for=\"sk-estimator-id-1\" class=\"sk-toggleable__label sk-toggleable__label-arrow\">GradientBoostingRegressor</label><div class=\"sk-toggleable__content\"><pre>GradientBoostingRegressor()</pre></div></div></div></div></div>"
      ],
      "text/plain": [
       "GradientBoostingRegressor()"
      ]
     },
     "execution_count": 27,
     "metadata": {},
     "output_type": "execute_result"
    }
   ],
   "source": [
    "lr = LinearRegression()\n",
    "lr.fit(X_train, y_train)\n",
    "svm = SVR()\n",
    "svm.fit(X_train, y_train)\n",
    "rf = RandomForestRegressor()\n",
    "rf.fit(X_train, y_train)\n",
    "gr = GradientBoostingRegressor()\n",
    "gr.fit(X_train, y_train)"
   ]
  },
  {
   "cell_type": "markdown",
   "id": "02e17236",
   "metadata": {},
   "source": [
    "# 7. Predict the Test Data"
   ]
  },
  {
   "cell_type": "code",
   "execution_count": 28,
   "id": "0e1d6ae8",
   "metadata": {},
   "outputs": [],
   "source": [
    "y.pred1 = lr.predict(X_test)\n",
    "y.pred2 = svm.predict(X_test)\n",
    "y.pred3 = rf.predict(X_test)\n",
    "y.pred4 = gr.predict(X_test)\n",
    "\n",
    "df1 = pd.DataFrame({'Actual':y_test,\n",
    "                   'LinearRegression':y.pred1,\n",
    "                   'SVR':y.pred2,\n",
    "                   'RandomForestRegressor':y.pred3,\n",
    "                   'GradientBoostingRegressor':y.pred4})"
   ]
  },
  {
   "cell_type": "code",
   "execution_count": 29,
   "id": "88671f04",
   "metadata": {},
   "outputs": [
    {
     "data": {
      "text/html": [
       "<div>\n",
       "<style scoped>\n",
       "    .dataframe tbody tr th:only-of-type {\n",
       "        vertical-align: middle;\n",
       "    }\n",
       "\n",
       "    .dataframe tbody tr th {\n",
       "        vertical-align: top;\n",
       "    }\n",
       "\n",
       "    .dataframe thead th {\n",
       "        text-align: right;\n",
       "    }\n",
       "</style>\n",
       "<table border=\"1\" class=\"dataframe\">\n",
       "  <thead>\n",
       "    <tr style=\"text-align: right;\">\n",
       "      <th></th>\n",
       "      <th>Actual</th>\n",
       "      <th>LinearRegression</th>\n",
       "      <th>SVR</th>\n",
       "      <th>RandomForestRegressor</th>\n",
       "      <th>GradientBoostingRegressor</th>\n",
       "    </tr>\n",
       "  </thead>\n",
       "  <tbody>\n",
       "    <tr>\n",
       "      <th>698</th>\n",
       "      <td>10976.24575</td>\n",
       "      <td>13196.935858</td>\n",
       "      <td>9188.428402</td>\n",
       "      <td>12042.661908</td>\n",
       "      <td>11981.145025</td>\n",
       "    </tr>\n",
       "    <tr>\n",
       "      <th>520</th>\n",
       "      <td>25656.57526</td>\n",
       "      <td>10037.562478</td>\n",
       "      <td>9150.759023</td>\n",
       "      <td>9652.252352</td>\n",
       "      <td>10071.572417</td>\n",
       "    </tr>\n",
       "    <tr>\n",
       "      <th>1144</th>\n",
       "      <td>9630.39700</td>\n",
       "      <td>11693.190552</td>\n",
       "      <td>9153.113163</td>\n",
       "      <td>11376.638480</td>\n",
       "      <td>10900.582910</td>\n",
       "    </tr>\n",
       "    <tr>\n",
       "      <th>908</th>\n",
       "      <td>15170.06900</td>\n",
       "      <td>18033.620307</td>\n",
       "      <td>9215.436197</td>\n",
       "      <td>18059.982619</td>\n",
       "      <td>17571.372648</td>\n",
       "    </tr>\n",
       "    <tr>\n",
       "      <th>559</th>\n",
       "      <td>1646.42970</td>\n",
       "      <td>4629.542008</td>\n",
       "      <td>8983.860753</td>\n",
       "      <td>1853.148793</td>\n",
       "      <td>4285.501184</td>\n",
       "    </tr>\n",
       "    <tr>\n",
       "      <th>...</th>\n",
       "      <td>...</td>\n",
       "      <td>...</td>\n",
       "      <td>...</td>\n",
       "      <td>...</td>\n",
       "      <td>...</td>\n",
       "    </tr>\n",
       "    <tr>\n",
       "      <th>851</th>\n",
       "      <td>14119.62000</td>\n",
       "      <td>15089.060974</td>\n",
       "      <td>9210.940991</td>\n",
       "      <td>15588.958252</td>\n",
       "      <td>17549.302169</td>\n",
       "    </tr>\n",
       "    <tr>\n",
       "      <th>109</th>\n",
       "      <td>47055.53210</td>\n",
       "      <td>38782.298308</td>\n",
       "      <td>9218.081345</td>\n",
       "      <td>48271.082887</td>\n",
       "      <td>45886.464957</td>\n",
       "    </tr>\n",
       "    <tr>\n",
       "      <th>941</th>\n",
       "      <td>9549.56510</td>\n",
       "      <td>16299.799609</td>\n",
       "      <td>9152.670158</td>\n",
       "      <td>9526.105082</td>\n",
       "      <td>9632.842754</td>\n",
       "    </tr>\n",
       "    <tr>\n",
       "      <th>600</th>\n",
       "      <td>1633.04440</td>\n",
       "      <td>5438.690243</td>\n",
       "      <td>8986.279460</td>\n",
       "      <td>5735.782229</td>\n",
       "      <td>2838.439933</td>\n",
       "    </tr>\n",
       "    <tr>\n",
       "      <th>865</th>\n",
       "      <td>6600.36100</td>\n",
       "      <td>8396.915503</td>\n",
       "      <td>9084.514953</td>\n",
       "      <td>7318.776359</td>\n",
       "      <td>6988.124420</td>\n",
       "    </tr>\n",
       "  </tbody>\n",
       "</table>\n",
       "<p>268 rows × 5 columns</p>\n",
       "</div>"
      ],
      "text/plain": [
       "           Actual  LinearRegression          SVR  RandomForestRegressor  \\\n",
       "698   10976.24575      13196.935858  9188.428402           12042.661908   \n",
       "520   25656.57526      10037.562478  9150.759023            9652.252352   \n",
       "1144   9630.39700      11693.190552  9153.113163           11376.638480   \n",
       "908   15170.06900      18033.620307  9215.436197           18059.982619   \n",
       "559    1646.42970       4629.542008  8983.860753            1853.148793   \n",
       "...           ...               ...          ...                    ...   \n",
       "851   14119.62000      15089.060974  9210.940991           15588.958252   \n",
       "109   47055.53210      38782.298308  9218.081345           48271.082887   \n",
       "941    9549.56510      16299.799609  9152.670158            9526.105082   \n",
       "600    1633.04440       5438.690243  8986.279460            5735.782229   \n",
       "865    6600.36100       8396.915503  9084.514953            7318.776359   \n",
       "\n",
       "      GradientBoostingRegressor  \n",
       "698                11981.145025  \n",
       "520                10071.572417  \n",
       "1144               10900.582910  \n",
       "908                17571.372648  \n",
       "559                 4285.501184  \n",
       "...                         ...  \n",
       "851                17549.302169  \n",
       "109                45886.464957  \n",
       "941                 9632.842754  \n",
       "600                 2838.439933  \n",
       "865                 6988.124420  \n",
       "\n",
       "[268 rows x 5 columns]"
      ]
     },
     "execution_count": 29,
     "metadata": {},
     "output_type": "execute_result"
    }
   ],
   "source": [
    "df1"
   ]
  },
  {
   "cell_type": "markdown",
   "id": "14ab6fb6",
   "metadata": {},
   "source": [
    "# 8. Make the Visualization of Predicted Values"
   ]
  },
  {
   "cell_type": "code",
   "execution_count": 30,
   "id": "1bdef14b",
   "metadata": {},
   "outputs": [],
   "source": [
    "import matplotlib.pyplot as plt"
   ]
  },
  {
   "cell_type": "code",
   "execution_count": 31,
   "id": "7991d656",
   "metadata": {},
   "outputs": [
    {
     "data": {
      "image/png": "[encoded data removed]",
      "text/plain": [
       "<Figure size 640x480 with 4 Axes>"
      ]
     },
     "metadata": {},
     "output_type": "display_data"
    }
   ],
   "source": [
    "plt.subplot(221)\n",
    "plt.plot(df1['Actual'].iloc[0:10],label='Actual')\n",
    "plt.plot(df1['LinearRegression'].iloc[0:10], label='LinearRegression')\n",
    "plt.legend()\n",
    "\n",
    "plt.subplot(222)\n",
    "plt.plot(df1['Actual'].iloc[0:10], label='Actual')\n",
    "plt.plot(df1['SVR'].iloc[0:10], label='SVR')\n",
    "plt.legend()\n",
    "\n",
    "plt.subplot(223)\n",
    "plt.plot(df1['Actual'].iloc[0:10], label='Actual')\n",
    "plt.plot(df1['RandomForestRegressor'].iloc[0:10], label='RandomForestRegressor')\n",
    "plt.legend()\n",
    "\n",
    "plt.subplot(224)\n",
    "plt.plot(df1['Actual'].iloc[0:10], label='Actual')\n",
    "plt.plot(df1['GradientBoostingRegressor'].iloc[0:10], label='GradientBoostingRegressor')\n",
    "plt.legend()\n",
    "\n",
    "plt.tight_layout()\n",
    "plt.show()"
   ]
  },
  {
   "cell_type": "markdown",
   "id": "d52dc209",
   "metadata": {},
   "source": [
    "# 9. Calculate the scores of the prediction test"
   ]
  },
  {
   "cell_type": "code",
   "execution_count": 32,
   "id": "bb40eedb",
   "metadata": {},
   "outputs": [],
   "source": [
    "from sklearn import metrics"
   ]
  },
  {
   "cell_type": "markdown",
   "id": "1e8745d4",
   "metadata": {},
   "source": [
    "#### Calculate the R-squared score"
   ]
  },
  {
   "cell_type": "code",
   "execution_count": 33,
   "id": "3b6553d4",
   "metadata": {},
   "outputs": [],
   "source": [
    "score1 = metrics.r2_score(y_test, y.pred1)\n",
    "score2 = metrics.r2_score(y_test, y.pred2)\n",
    "score3 = metrics.r2_score(y_test, y.pred3)\n",
    "score4 = metrics.r2_score(y_test, y.pred4)"
   ]
  },
  {
   "cell_type": "code",
   "execution_count": 34,
   "id": "eb5401d3",
   "metadata": {},
   "outputs": [
    {
     "name": "stdout",
     "output_type": "stream",
     "text": [
      "0.7960709949046044 -0.12417212773288555 0.8873559891416025 0.904787466470962\n"
     ]
    }
   ],
   "source": [
    "print(score1, score2, score3, score4)"
   ]
  },
  {
   "cell_type": "markdown",
   "id": "fc3371f0",
   "metadata": {},
   "source": [
    "#### Calculate the mean-absolute-error score"
   ]
  },
  {
   "cell_type": "code",
   "execution_count": 35,
   "id": "f43d9a41",
   "metadata": {},
   "outputs": [],
   "source": [
    "s1 = metrics.mean_absolute_error(y_test, y.pred1)\n",
    "s2 = metrics.mean_absolute_error(y_test, y.pred2)\n",
    "s3 = metrics.mean_absolute_error(y_test, y.pred3)\n",
    "s4 = metrics.mean_absolute_error(y_test, y.pred4)"
   ]
  },
  {
   "cell_type": "code",
   "execution_count": 36,
   "id": "8cf2c134",
   "metadata": {},
   "outputs": [
    {
     "name": "stdout",
     "output_type": "stream",
     "text": [
      "4035.60149967753 8378.208374239653 2353.1379756532965 2208.0053898291244\n"
     ]
    }
   ],
   "source": [
    "print(s1, s2, s3, s4)"
   ]
  },
  {
   "cell_type": "markdown",
   "id": "c8e0b4e7",
   "metadata": {},
   "source": [
    "#### From the graphs, r2-squared score and mean-absolute-error score, we can conclude y.pred4 (Gradient Boosting Regressor) is the most accurate method"
   ]
  },
  {
   "cell_type": "markdown",
   "id": "a4f72083",
   "metadata": {},
   "source": [
    "# 10. Use the Joblib"
   ]
  },
  {
   "cell_type": "markdown",
   "id": "734d70a5",
   "metadata": {},
   "source": [
    "#### Train the models with Gradient Boosting Regressor"
   ]
  },
  {
   "cell_type": "code",
   "execution_count": 37,
   "id": "042eb510",
   "metadata": {},
   "outputs": [
    {
     "data": {
      "text/html": [
       "<style>#sk-container-id-2 {color: black;background-color: white;}#sk-container-id-2 pre{padding: 0;}#sk-container-id-2 div.sk-toggleable {background-color: white;}#sk-container-id-2 label.sk-toggleable__label {cursor: pointer;display: block;width: 100%;margin-bottom: 0;padding: 0.3em;box-sizing: border-box;text-align: center;}#sk-container-id-2 label.sk-toggleable__label-arrow:before {content: \"▸\";float: left;margin-right: 0.25em;color: #696969;}#sk-container-id-2 label.sk-toggleable__label-arrow:hover:before {color: black;}#sk-container-id-2 div.sk-estimator:hover label.sk-toggleable__label-arrow:before {color: black;}#sk-container-id-2 div.sk-toggleable__content {max-height: 0;max-width: 0;overflow: hidden;text-align: left;background-color: #f0f8ff;}#sk-container-id-2 div.sk-toggleable__content pre {margin: 0.2em;color: black;border-radius: 0.25em;background-color: #f0f8ff;}#sk-container-id-2 input.sk-toggleable__control:checked~div.sk-toggleable__content {max-height: 200px;max-width: 100%;overflow: auto;}#sk-container-id-2 input.sk-toggleable__control:checked~label.sk-toggleable__label-arrow:before {content: \"▾\";}#sk-container-id-2 div.sk-estimator input.sk-toggleable__control:checked~label.sk-toggleable__label {background-color: #d4ebff;}#sk-container-id-2 div.sk-label input.sk-toggleable__control:checked~label.sk-toggleable__label {background-color: #d4ebff;}#sk-container-id-2 input.sk-hidden--visually {border: 0;clip: rect(1px 1px 1px 1px);clip: rect(1px, 1px, 1px, 1px);height: 1px;margin: -1px;overflow: hidden;padding: 0;position: absolute;width: 1px;}#sk-container-id-2 div.sk-estimator {font-family: monospace;background-color: #f0f8ff;border: 1px dotted black;border-radius: 0.25em;box-sizing: border-box;margin-bottom: 0.5em;}#sk-container-id-2 div.sk-estimator:hover {background-color: #d4ebff;}#sk-container-id-2 div.sk-parallel-item::after {content: \"\";width: 100%;border-bottom: 1px solid gray;flex-grow: 1;}#sk-container-id-2 div.sk-label:hover label.sk-toggleable__label {background-color: #d4ebff;}#sk-container-id-2 div.sk-serial::before {content: \"\";position: absolute;border-left: 1px solid gray;box-sizing: border-box;top: 0;bottom: 0;left: 50%;z-index: 0;}#sk-container-id-2 div.sk-serial {display: flex;flex-direction: column;align-items: center;background-color: white;padding-right: 0.2em;padding-left: 0.2em;position: relative;}#sk-container-id-2 div.sk-item {position: relative;z-index: 1;}#sk-container-id-2 div.sk-parallel {display: flex;align-items: stretch;justify-content: center;background-color: white;position: relative;}#sk-container-id-2 div.sk-item::before, #sk-container-id-2 div.sk-parallel-item::before {content: \"\";position: absolute;border-left: 1px solid gray;box-sizing: border-box;top: 0;bottom: 0;left: 50%;z-index: -1;}#sk-container-id-2 div.sk-parallel-item {display: flex;flex-direction: column;z-index: 1;position: relative;background-color: white;}#sk-container-id-2 div.sk-parallel-item:first-child::after {align-self: flex-end;width: 50%;}#sk-container-id-2 div.sk-parallel-item:last-child::after {align-self: flex-start;width: 50%;}#sk-container-id-2 div.sk-parallel-item:only-child::after {width: 0;}#sk-container-id-2 div.sk-dashed-wrapped {border: 1px dashed gray;margin: 0 0.4em 0.5em 0.4em;box-sizing: border-box;padding-bottom: 0.4em;background-color: white;}#sk-container-id-2 div.sk-label label {font-family: monospace;font-weight: bold;display: inline-block;line-height: 1.2em;}#sk-container-id-2 div.sk-label-container {text-align: center;}#sk-container-id-2 div.sk-container {/* jupyter's `normalize.less` sets `[hidden] { display: none; }` but bootstrap.min.css set `[hidden] { display: none !important; }` so we also need the `!important` here to be able to override the default hidden behavior on the sphinx rendered scikit-learn.org. See: https://github.com/scikit-learn/scikit-learn/issues/21755 */display: inline-block !important;position: relative;}#sk-container-id-2 div.sk-text-repr-fallback {display: none;}</style><div id=\"sk-container-id-2\" class=\"sk-top-container\"><div class=\"sk-text-repr-fallback\"><pre>GradientBoostingRegressor()</pre><b>In a Jupyter environment, please rerun this cell to show the HTML representation or trust the notebook. <br />On GitHub, the HTML representation is unable to render, please try loading this page with nbviewer.org.</b></div><div class=\"sk-container\" hidden><div class=\"sk-item\"><div class=\"sk-estimator sk-toggleable\"><input class=\"sk-toggleable__control sk-hidden--visually\" id=\"sk-estimator-id-2\" type=\"checkbox\" checked><label for=\"sk-estimator-id-2\" class=\"sk-toggleable__label sk-toggleable__label-arrow\">GradientBoostingRegressor</label><div class=\"sk-toggleable__content\"><pre>GradientBoostingRegressor()</pre></div></div></div></div></div>"
      ],
      "text/plain": [
       "GradientBoostingRegressor()"
      ]
     },
     "execution_count": 37,
     "metadata": {},
     "output_type": "execute_result"
    }
   ],
   "source": [
    "gr.fit(X, y)"
   ]
  },
  {
   "cell_type": "code",
   "execution_count": 38,
   "id": "22ce56c7",
   "metadata": {},
   "outputs": [],
   "source": [
    "import joblib"
   ]
  },
  {
   "cell_type": "code",
   "execution_count": 39,
   "id": "569927b5",
   "metadata": {},
   "outputs": [
    {
     "data": {
      "text/plain": [
       "['GradientBoostingRegressor_Model']"
      ]
     },
     "execution_count": 39,
     "metadata": {},
     "output_type": "execute_result"
    }
   ],
   "source": [
    "joblib.dump(gr,'GradientBoostingRegressor_Model')"
   ]
  },
  {
   "cell_type": "code",
   "execution_count": 40,
   "id": "414b28b4",
   "metadata": {},
   "outputs": [],
   "source": [
    "model = joblib.load('GradientBoostingRegressor_Model')"
   ]
  },
  {
   "cell_type": "markdown",
   "id": "91509aad",
   "metadata": {},
   "source": [
    "# 11. Make the GUI to prediction model "
   ]
  },
  {
   "cell_type": "code",
   "execution_count": 41,
   "id": "9d39a798",
   "metadata": {},
   "outputs": [],
   "source": [
    "from tkinter import *"
   ]
  },
  {
   "cell_type": "code",
   "execution_count": null,
   "id": "b50477bc",
   "metadata": {},
   "outputs": [],
   "source": [
    "def show_entry():\n",
    "    \n",
    "    p1 = float(e1.get())\n",
    "    p2 = float(e2.get())\n",
    "    p3 = float(e3.get())\n",
    "    p4 = float(e4.get())\n",
    "    p5 = float(e5.get())\n",
    "    p6 = float(e6.get())\n",
    "\n",
    "    model = joblib.load('GradientBoostingRegressor_Model')\n",
    "    result = model.predict([[p1,p2,p3,p4,p5,p6]])\n",
    "    \n",
    "    Label(master, text='Insurance Cost').grid(row=7)\n",
    "    Label(master, text=result).grid(row=8)\n",
    "    \n",
    "    \n",
    "master = Tk()\n",
    "master.title('Insurance Cost Prediciton using GR')\n",
    "label = Label(master, text = 'Insurance Cost Prediction using GR', bg='white',\n",
    "                 fg='black').grid(row=0,columnspan=2)\n",
    "\n",
    "Label(master,text='Enter your Age').grid(row=1)\n",
    "Label(master,text='Enter [0/1] for female/male').grid(row=2)\n",
    "Label(master,text='Enter your BMI Value').grid(row=3)\n",
    "Label(master,text='Enter of Children').grid(row=4)\n",
    "Label(master,text='Enter [0/1] for non-smoker/smoker').grid(row=5)\n",
    "Label(master,text='Enter [1-4] for your Region').grid(row=6)\n",
    "\n",
    "e1 = Entry(master)\n",
    "e2 = Entry(master)\n",
    "e3 = Entry(master)\n",
    "e4 = Entry(master)\n",
    "e5 = Entry(master)\n",
    "e6 = Entry(master)\n",
    "\n",
    "e1.grid(row=1,column=1)\n",
    "e2.grid(row=2,column=1)\n",
    "e3.grid(row=3,column=1)\n",
    "e4.grid(row=4,column=1)\n",
    "e5.grid(row=5,column=1)\n",
    "e6.grid(row=6,column=1)\n",
    "\n",
    "Button(master,text='Predict', command=show_entry).grid()\n",
    "\n",
    "\n",
    "mainloop()"
   ]
  },
  {
   "cell_type": "code",
   "execution_count": null,
   "id": "22e22de6",
   "metadata": {},
   "outputs": [],
   "source": []
  }
 ],
 "metadata": {
  "kernelspec": {
   "display_name": "Python 3 (ipykernel)",
   "language": "python",
   "name": "python3"
  },
  "language_info": {
   "codemirror_mode": {
    "name": "ipython",
    "version": 3
   },
   "file_extension": ".py",
   "mimetype": "text/x-python",
   "name": "python",
   "nbconvert_exporter": "python",
   "pygments_lexer": "ipython3",
   "version": "3.10.10"
  }
 },
 "nbformat": 4,
 "nbformat_minor": 5
}
